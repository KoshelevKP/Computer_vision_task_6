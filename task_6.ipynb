{
 "cells": [
  {
   "cell_type": "code",
   "execution_count": null,
   "metadata": {},
   "outputs": [],
   "source": [
    "import numpy as np\n",
    "from tensorflow import keras\n",
    "from tensorflow.keras.models import Model\n",
    "from tensorflow.keras.applications.vgg16 import VGG16\n",
    "from tensorflow.keras.applications.inception_v3 import InceptionV3\n",
    "from tensorflow.keras.applications.vgg16 import preprocess_input\n",
    "from tensorflow.keras.preprocessing.image import load_img, img_to_array\n",
    "import tensorflow as tf"
   ]
  },
  {
   "cell_type": "code",
   "execution_count": null,
   "metadata": {},
   "outputs": [],
   "source": [
    "IMG_SIZE = (224, 224)  # размер входного изображения сети"
   ]
  },
  {
   "cell_type": "code",
   "execution_count": null,
   "metadata": {},
   "outputs": [],
   "source": [
    "import re\n",
    "from random import shuffle\n",
    "from glob import glob\n",
    "\n",
    "train_files = glob('/kaggle/input/dogs-vs-cats-redux-kernels-edition/train/*.jpg')\n",
    "test_files = glob('/kaggle/input/dogs-vs-cats-redux-kernels-edition/test/*.jpg')\n",
    "\n",
    "# загружаем входное изображение и предобрабатываем\n",
    "def load_image(path, target_size=IMG_SIZE):\n",
    "    img = load_img(path, target_size=target_size)  # загрузка и масштабирование изображения\n",
    "    array = img_to_array(img)\n",
    "    return preprocess_input(array)  # предобработка для VGG16\n",
    "\n",
    "# генератор для последовательного чтения обучающих данных с диска\n",
    "def fit_generator(files, batch_size=32):\n",
    "    while True:\n",
    "        shuffle(files)\n",
    "        for k in range(len(files) // batch_size):\n",
    "            i = k * batch_size\n",
    "            j = i + batch_size\n",
    "            if j > len(files):\n",
    "                j = - j % len(files)\n",
    "            x = np.array([load_image(path) for path in files[i:j]])\n",
    "            y = np.array([1. if re.match('.*/dog\\.\\d', path) else 0. for path in files[i:j]])\n",
    "            yield (x, y)\n",
    "\n",
    "# генератор последовательного чтения тестовых данных с диска\n",
    "def predict_generator(files):\n",
    "    while True:\n",
    "        for path in files:\n",
    "            yield np.array([load_image(path)])"
   ]
  },
  {
   "cell_type": "code",
   "execution_count": null,
   "metadata": {},
   "outputs": [],
   "source": [
    "%matplotlib inline\n",
    "from matplotlib import pyplot as plt\n",
    "fig = plt.figure(figsize=(20, 20))\n",
    "for i, path in enumerate(train_files[:10], 1):\n",
    "    subplot = fig.add_subplot(i // 5 + 1, 5, i)\n",
    "    plt.imshow(plt.imread(path));\n",
    "    subplot.set_title('%s' % path.split('/')[-1]);"
   ]
  },
  {
   "cell_type": "code",
   "execution_count": null,
   "metadata": {},
   "outputs": [],
   "source": [
    "model = keras.models.load_model('/kaggle/input/model-cats-dogs/cats-dogs-vgg16.hdf5')"
   ]
  },
  {
   "cell_type": "code",
   "execution_count": null,
   "metadata": {},
   "outputs": [],
   "source": [
    "model.summary()"
   ]
  },
  {
   "cell_type": "code",
   "execution_count": null,
   "metadata": {},
   "outputs": [],
   "source": [
    "model.compile(optimizer='adam', \n",
    "              loss='binary_crossentropy',  # функция потерь binary_crossentropy (log loss\n",
    "              metrics=['accuracy'])"
   ]
  },
  {
   "cell_type": "code",
   "execution_count": null,
   "metadata": {},
   "outputs": [],
   "source": [
    "shuffle(train_files)  # перемешиваем обучающую выборку\n",
    "\n",
    "train_val_split = 100  # число изображений в валидационной выборке\n",
    "\n",
    "validation_data = next(fit_generator(train_files[:train_val_split], train_val_split))\n",
    "\n",
    "# запускаем процесс обучения\n",
    "model.fit_generator(fit_generator(train_files[train_val_split:]),  # данные читаем функцией-генератором\n",
    "        steps_per_epoch=10,  # число вызовов генератора за эпоху\n",
    "        epochs=100,  # число эпох обучения\n",
    "        validation_data=validation_data)"
   ]
  },
  {
   "cell_type": "code",
   "execution_count": null,
   "metadata": {},
   "outputs": [],
   "source": [
    "pred = model.predict_generator(predict_generator(test_files), len(test_files), max_queue_size=500)"
   ]
  },
  {
   "cell_type": "code",
   "execution_count": null,
   "metadata": {},
   "outputs": [],
   "source": [
    "%matplotlib inline\n",
    "from matplotlib import pyplot as plt\n",
    "fig = plt.figure(figsize=(20, 20))\n",
    "for i, (path, score) in enumerate(zip(test_files[80:][:10], pred[80:][:10]), 1):\n",
    "    subplot = fig.add_subplot(i // 5 + 1, 5, i)\n",
    "    plt.imshow(plt.imread(path));\n",
    "    subplot.set_title('%.3f' % score);"
   ]
  },
  {
   "cell_type": "code",
   "execution_count": null,
   "metadata": {},
   "outputs": [],
   "source": [
    "with open('submit.csv', 'w') as dst:\n",
    "    dst.write('id,label\\n')\n",
    "    for path, score in zip(test_files, pred):\n",
    "        dst.write('%s,%f\\n' % (re.search('(\\d+)', path).group(0), score))"
   ]
  }
 ],
 "metadata": {
  "kernelspec": {
   "display_name": "Python 3",
   "language": "python",
   "name": "python3"
  },
  "language_info": {
   "codemirror_mode": {
    "name": "ipython",
    "version": 3
   },
   "file_extension": ".py",
   "mimetype": "text/x-python",
   "name": "python",
   "nbconvert_exporter": "python",
   "pygments_lexer": "ipython3",
   "version": "3.6.5"
  }
 },
 "nbformat": 4,
 "nbformat_minor": 2
}
